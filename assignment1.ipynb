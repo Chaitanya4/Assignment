{
  "nbformat": 4,
  "nbformat_minor": 0,
  "metadata": {
    "colab": {
      "name": "Untitled0.ipynb",
      "provenance": [],
      "authorship_tag": "ABX9TyPX7N0OiHLX/mhqM7yuXpG3",
      "include_colab_link": true
    },
    "kernelspec": {
      "name": "python3",
      "display_name": "Python 3"
    }
  },
  "cells": [
    {
      "cell_type": "markdown",
      "metadata": {
        "id": "view-in-github",
        "colab_type": "text"
      },
      "source": [
        "<a href=\"https://colab.research.google.com/github/Chaitanya4/Assignment/blob/master/assignment1.ipynb\" target=\"_parent\"><img src=\"https://colab.research.google.com/assets/colab-badge.svg\" alt=\"Open In Colab\"/></a>"
      ]
    },
    {
      "cell_type": "code",
      "metadata": {
        "id": "EaiGiElh_M1y",
        "colab_type": "code",
        "colab": {}
      },
      "source": [
        ""
      ],
      "execution_count": 0,
      "outputs": []
    },
    {
      "cell_type": "markdown",
      "metadata": {
        "id": "2YOoQklI_OQu",
        "colab_type": "text"
      },
      "source": [
        "\n",
        "Python Data Type: String - Exercises\n",
        "1. Write a Python program to count the number of characters (character frequency) in a string\n",
        "\n",
        "    Sample String : google.com'\n",
        "    Expected Result : {'o': 3, 'g': 2, '.': 1, 'e': 1, 'l': 1, 'm': 1, 'c': 1}\n",
        "\n"
      ]
    },
    {
      "cell_type": "code",
      "metadata": {
        "id": "14v4n6ga_aji",
        "colab_type": "code",
        "colab": {
          "base_uri": "https://localhost:8080/",
          "height": 34
        },
        "outputId": "e0c72550-5f60-487b-da52-82544da5a25f"
      },
      "source": [
        "def count_char(inputstring):\n",
        "    dict = {}\n",
        "    for n in inputstring:\n",
        "        keys = dict.keys()\n",
        "        if n in keys:\n",
        "            dict[n] += 1\n",
        "        else:\n",
        "            dict[n] = 1\n",
        "    return dict\n",
        "print(count_char('google.com'))\n"
      ],
      "execution_count": 1,
      "outputs": [
        {
          "output_type": "stream",
          "text": [
            "{'g': 2, 'o': 3, 'l': 1, 'e': 1, '.': 1, 'c': 1, 'm': 1}\n"
          ],
          "name": "stdout"
        }
      ]
    },
    {
      "cell_type": "markdown",
      "metadata": {
        "id": "48hvz_sr_iQH",
        "colab_type": "text"
      },
      "source": [
        "3. Write a Python function that takes a list of words and returns the length of the longest one"
      ]
    },
    {
      "cell_type": "code",
      "metadata": {
        "id": "A3eDk2l1_nSu",
        "colab_type": "code",
        "colab": {
          "base_uri": "https://localhost:8080/",
          "height": 34
        },
        "outputId": "0642171a-a58e-4c57-d549-6dc78d445e26"
      },
      "source": [
        "def longest_string(input_data):\n",
        "    input_len = []\n",
        "    for n in input_data:\n",
        "        input_len.append((len(n), n))\n",
        "    input_len.sort()\n",
        "    return input_len[-1][1]\n",
        "\n",
        "print(longest_string([\"100\", \"Day\", \"Of\",\"Code\"]))"
      ],
      "execution_count": 2,
      "outputs": [
        {
          "output_type": "stream",
          "text": [
            "Code\n"
          ],
          "name": "stdout"
        }
      ]
    },
    {
      "cell_type": "markdown",
      "metadata": {
        "id": "eCNzXiYg_5LG",
        "colab_type": "text"
      },
      "source": [
        "4. Write a Python program to count the occurrences of each word in a given sentence"
      ]
    },
    {
      "cell_type": "code",
      "metadata": {
        "id": "1AQ49gM9AIVc",
        "colab_type": "code",
        "colab": {
          "base_uri": "https://localhost:8080/",
          "height": 34
        },
        "outputId": "9a6598ff-4084-44e7-fc32-cebf34e254ff"
      },
      "source": [
        "def count_word(input_string):\n",
        "    counts = dict()\n",
        "    words = input_string.split()\n",
        "\n",
        "    for word in words:\n",
        "        if word in counts:\n",
        "            counts[word] += 1\n",
        "        else:\n",
        "            counts[word] = 1\n",
        "\n",
        "    return counts\n",
        "\n",
        "print( count_word('Welcome to programming'))"
      ],
      "execution_count": 3,
      "outputs": [
        {
          "output_type": "stream",
          "text": [
            "{'Welcome': 1, 'to': 1, 'programming': 1}\n"
          ],
          "name": "stdout"
        }
      ]
    },
    {
      "cell_type": "markdown",
      "metadata": {
        "id": "42Rcd0YYAOFL",
        "colab_type": "text"
      },
      "source": [
        "5. Write a Python function to convert a given string to all uppercase if it contains at least 2 uppercase characters in the first 4 characters."
      ]
    },
    {
      "cell_type": "code",
      "metadata": {
        "id": "Yw5xPOpsAUhw",
        "colab_type": "code",
        "colab": {
          "base_uri": "https://localhost:8080/",
          "height": 52
        },
        "outputId": "4aff341f-0732-4141-8d6a-4de2c434dfa8"
      },
      "source": [
        "def uppercase_conversion(input_str):\n",
        "    num_upper_char = 0\n",
        "    for letter in input_str[:4]: \n",
        "        if letter.upper() == letter:\n",
        "            num_upper_char += 1\n",
        "    if num_upper_char >= 2:\n",
        "        return input_str.upper()\n",
        "    return  input_str\n",
        "\n",
        "print(uppercase_conversion('CoDIng'))\n",
        "print(uppercase_conversion('Coding'))\n"
      ],
      "execution_count": 4,
      "outputs": [
        {
          "output_type": "stream",
          "text": [
            "CODING\n",
            "Coding\n"
          ],
          "name": "stdout"
        }
      ]
    },
    {
      "cell_type": "markdown",
      "metadata": {
        "id": "3_579bXDAhXN",
        "colab_type": "text"
      },
      "source": [
        "6. Write a Python program to count and display the vowels of a given text"
      ]
    },
    {
      "cell_type": "code",
      "metadata": {
        "id": "Vzxm4FfbAoIX",
        "colab_type": "code",
        "colab": {
          "base_uri": "https://localhost:8080/",
          "height": 69
        },
        "outputId": "f71f8a67-1d98-44a8-b30a-c90541c01855"
      },
      "source": [
        "def vowel(input_str):\n",
        "    vowels = \"aeiuoAEIOU\"\n",
        "    ans=\"\"\n",
        "    for letter in input_str:\n",
        "      if letter in vowels:\n",
        "        ans=ans+letter\n",
        "    print(\"count of vowels:\")\n",
        "    print(len(ans))\n",
        "    print(\"display vowels:\"+(ans))\n",
        "vowel('Hello');"
      ],
      "execution_count": 5,
      "outputs": [
        {
          "output_type": "stream",
          "text": [
            "count of vowels:\n",
            "2\n",
            "display vowels:eo\n"
          ],
          "name": "stdout"
        }
      ]
    },
    {
      "cell_type": "markdown",
      "metadata": {
        "id": "T2njwPswAvNz",
        "colab_type": "text"
      },
      "source": [
        "## Python Data Type: List - Exercises\n",
        "\n",
        "1. Write a Python program to check a list is empty or not"
      ]
    },
    {
      "cell_type": "code",
      "metadata": {
        "id": "7vK9blktAzz9",
        "colab_type": "code",
        "colab": {
          "base_uri": "https://localhost:8080/",
          "height": 34
        },
        "outputId": "5b8a5c05-ef9e-400e-8a3d-6c69cf0baecf"
      },
      "source": [
        "input_list = []\n",
        "if not input_list:\n",
        "  print(\"List is empty\")"
      ],
      "execution_count": 6,
      "outputs": [
        {
          "output_type": "stream",
          "text": [
            "List is empty\n"
          ],
          "name": "stdout"
        }
      ]
    },
    {
      "cell_type": "markdown",
      "metadata": {
        "id": "G-cqsIFyA40c",
        "colab_type": "text"
      },
      "source": [
        "2. Write a Python program to remove duplicates from a list."
      ]
    },
    {
      "cell_type": "code",
      "metadata": {
        "id": "oZt8fhi3A9oA",
        "colab_type": "code",
        "colab": {
          "base_uri": "https://localhost:8080/",
          "height": 52
        },
        "outputId": "3223d9e9-de8b-45e6-f22b-0ce90308920f"
      },
      "source": [
        "a = [10,200,70,200,10,50,60,40,80,50,40]\n",
        "\n",
        "remove_dup_items = set(a)\n",
        "print(\"list after removing duplicate items:\")\n",
        "print(list(remove_dup_items))"
      ],
      "execution_count": 7,
      "outputs": [
        {
          "output_type": "stream",
          "text": [
            "list after removing duplicate items:\n",
            "[70, 200, 40, 10, 80, 50, 60]\n"
          ],
          "name": "stdout"
        }
      ]
    },
    {
      "cell_type": "markdown",
      "metadata": {
        "id": "MHooq1FSBF6T",
        "colab_type": "text"
      },
      "source": [
        "3. Write a Python function that takes two lists and returns True if they have at least one common member"
      ]
    },
    {
      "cell_type": "code",
      "metadata": {
        "id": "YrWqP1OyBPR6",
        "colab_type": "code",
        "colab": {
          "base_uri": "https://localhost:8080/",
          "height": 52
        },
        "outputId": "0c4dd92b-4e41-4e68-b611-f16661947eab"
      },
      "source": [
        "def common_data(list1, list2):\n",
        "     output = False\n",
        "     for x in list1:\n",
        "         for y in list2:\n",
        "             if x == y:\n",
        "                 output = True\n",
        "                 return output\n",
        "print(common_data([100,2,30,4,5], [5,60,70,80,9]))\n",
        "print(common_data([1,2,3,40,5], [6,70,80,9]))"
      ],
      "execution_count": 8,
      "outputs": [
        {
          "output_type": "stream",
          "text": [
            "True\n",
            "None\n"
          ],
          "name": "stdout"
        }
      ]
    },
    {
      "cell_type": "markdown",
      "metadata": {
        "id": "i_k1rTDCBVPa",
        "colab_type": "text"
      },
      "source": [
        "4. Write a Python program to get the difference between the two lists"
      ]
    },
    {
      "cell_type": "code",
      "metadata": {
        "id": "DzdFu1lYBZXt",
        "colab_type": "code",
        "colab": {
          "base_uri": "https://localhost:8080/",
          "height": 34
        },
        "outputId": "16977fa9-b60f-4f60-a3ae-184ad9886f4d"
      },
      "source": [
        "list1 = [10, 20, 30, 40,50]\n",
        "list2 = [40,50]\n",
        "print(list(set(list1)-set(list2)))"
      ],
      "execution_count": 10,
      "outputs": [
        {
          "output_type": "stream",
          "text": [
            "[10, 20, 30]\n"
          ],
          "name": "stdout"
        }
      ]
    },
    {
      "cell_type": "markdown",
      "metadata": {
        "id": "9WJVTmbpBl8A",
        "colab_type": "text"
      },
      "source": [
        "5. Write a Python program to find the second smallest number in a list"
      ]
    },
    {
      "cell_type": "code",
      "metadata": {
        "id": "IelSr-T-Br0B",
        "colab_type": "code",
        "colab": {
          "base_uri": "https://localhost:8080/",
          "height": 34
        },
        "outputId": "f0a6a19c-f4a2-4180-8141-d5d57d4c2e2b"
      },
      "source": [
        "def second_smallest(numbers):\n",
        "  if (len(numbers)<2):\n",
        "    return\n",
        "  if ((len(numbers)==2)  and (numbers[0] == numbers[1]) ):\n",
        "    return\n",
        "  dup_items = set()\n",
        "  uniq_items = []\n",
        "  for x in numbers:\n",
        "    if x not in dup_items:\n",
        "      uniq_items.append(x)\n",
        "      dup_items.add(x)\n",
        "  uniq_items.sort()    \n",
        "  return  uniq_items[1]   \n",
        "\n",
        "print(second_smallest([10, 8, -18, -20, 20, -5]))"
      ],
      "execution_count": 11,
      "outputs": [
        {
          "output_type": "stream",
          "text": [
            "-18\n"
          ],
          "name": "stdout"
        }
      ]
    },
    {
      "cell_type": "markdown",
      "metadata": {
        "id": "9z1RHSUZBy8g",
        "colab_type": "text"
      },
      "source": [
        "6. Write a Python program to find the second largest number in a list."
      ]
    },
    {
      "cell_type": "code",
      "metadata": {
        "id": "0GbeScdRB3Cv",
        "colab_type": "code",
        "colab": {
          "base_uri": "https://localhost:8080/",
          "height": 34
        },
        "outputId": "1e4716d5-028c-430c-f92a-95abecc9e8f5"
      },
      "source": [
        "def second_largest(numbers):\n",
        "  if (len(numbers)<2):\n",
        "    return\n",
        "  if ((len(numbers)==2)  and (numbers[0] == numbers[1]) ):\n",
        "    return\n",
        "  dup_items = set()\n",
        "  uniq_items = []\n",
        "  for x in numbers:\n",
        "    if x not in dup_items:\n",
        "      uniq_items.append(x)\n",
        "      dup_items.add(x)\n",
        "  uniq_items.sort()    \n",
        "  return  uniq_items[-2]   \n",
        "print(second_largest([1,25,3,49,4]))"
      ],
      "execution_count": 12,
      "outputs": [
        {
          "output_type": "stream",
          "text": [
            "25\n"
          ],
          "name": "stdout"
        }
      ]
    },
    {
      "cell_type": "markdown",
      "metadata": {
        "id": "kMZsgoyGB-X7",
        "colab_type": "text"
      },
      "source": [
        ""
      ]
    },
    {
      "cell_type": "markdown",
      "metadata": {
        "id": "uD1yCpm1B-iv",
        "colab_type": "text"
      },
      "source": [
        "\n",
        "7. Write a Python program to get the frequency of the elements in a list\n"
      ]
    },
    {
      "cell_type": "code",
      "metadata": {
        "id": "PrFAHysYCDZ7",
        "colab_type": "code",
        "colab": {
          "base_uri": "https://localhost:8080/",
          "height": 52
        },
        "outputId": "91f16dfb-4fd1-415b-f0d7-772fe5fa1be9"
      },
      "source": [
        "import collections\n",
        "input_list = [1,4,50,6,80,1,50,80,8]\n",
        "print(\"Original List : \",input_list)\n",
        "output = collections.Counter(input_list)\n",
        "print(\"Frequency of the elements in the List : \",output)"
      ],
      "execution_count": 13,
      "outputs": [
        {
          "output_type": "stream",
          "text": [
            "Original List :  [1, 4, 50, 6, 80, 1, 50, 80, 8]\n",
            "Frequency of the elements in the List :  Counter({1: 2, 50: 2, 80: 2, 4: 1, 6: 1, 8: 1})\n"
          ],
          "name": "stdout"
        }
      ]
    },
    {
      "cell_type": "markdown",
      "metadata": {
        "id": "NQGgYlvzCIqW",
        "colab_type": "text"
      },
      "source": [
        "\n",
        "8. Write a Python program to convert a list of multiple integers into a single integer\n",
        "\n",
        "    Sample list: [11, 33, 50]\n",
        "    Expected Output: 113350\n",
        "\n"
      ]
    },
    {
      "cell_type": "code",
      "metadata": {
        "id": "RvF4Om22CMBF",
        "colab_type": "code",
        "colab": {
          "base_uri": "https://localhost:8080/",
          "height": 52
        },
        "outputId": "0abb6ce3-cc98-4e2f-d005-de05b5a8c16e"
      },
      "source": [
        "input_list = [11, 33, 50]\n",
        "print(\"Original List: \",input_list)\n",
        "ans = int(\"\".join(map(str, input_list)))\n",
        "print(\"Single Integer: \",ans)"
      ],
      "execution_count": 14,
      "outputs": [
        {
          "output_type": "stream",
          "text": [
            "Original List:  [11, 33, 50]\n",
            "Single Integer:  113350\n"
          ],
          "name": "stdout"
        }
      ]
    },
    {
      "cell_type": "markdown",
      "metadata": {
        "id": "WZT_UyJGCQPO",
        "colab_type": "text"
      },
      "source": [
        "\n",
        "9. Write a Python program to compute the similarity between two lists.\n",
        "\n",
        "    Sample data: [\"red\", \"orange\", \"green\", \"blue\", \"white\"], [\"black\", \"yellow\", \"green\", \"blue\"]\n",
        "    Expected Output:\n",
        "    Color1-Color2: ['white', 'orange', 'red']\n",
        "    Color2-Color1: ['black', 'yellow']\n",
        "\n"
      ]
    },
    {
      "cell_type": "code",
      "metadata": {
        "id": "_UsAlVgCCTo3",
        "colab_type": "code",
        "colab": {
          "base_uri": "https://localhost:8080/",
          "height": 52
        },
        "outputId": "af4f65f3-4b7b-40d7-a815-d168f711d6e8"
      },
      "source": [
        "from collections import Counter\n",
        "input1 = [\"red\", \"orange\", \"green\", \"blue\", \"white\"]\n",
        "input2 = [\"black\", \"yellow\", \"green\", \"blue\"]\n",
        "diff1 = Counter(input1)\n",
        "diff2 = Counter(input2)\n",
        "print(\"Input1-Input2 \",list(diff1-diff2))\n",
        "print(\"Input2-Input1: \",list(diff2-diff1))"
      ],
      "execution_count": 15,
      "outputs": [
        {
          "output_type": "stream",
          "text": [
            "Input1-Input2  ['red', 'orange', 'white']\n",
            "Input2-Input1:  ['black', 'yellow']\n"
          ],
          "name": "stdout"
        }
      ]
    },
    {
      "cell_type": "markdown",
      "metadata": {
        "id": "zZZB1PSpCfT5",
        "colab_type": "text"
      },
      "source": [
        "\n",
        "10. Write a Python program to check if all dictionaries in a list are empty or not.\n",
        "\n",
        "    Sample list : [{},{},{}]\n",
        "    Return value : True\n",
        "    Sample list : [{1,2},{},{}]\n",
        "    Return value : False\n",
        "\n"
      ]
    },
    {
      "cell_type": "code",
      "metadata": {
        "id": "w0EbKx7qCm64",
        "colab_type": "code",
        "colab": {
          "base_uri": "https://localhost:8080/",
          "height": 52
        },
        "outputId": "b93f1ea1-3c1c-454c-bc5d-993e5c6387cf"
      },
      "source": [
        "input1 = [{},{},{}]\n",
        "input2 = [{1,2},{},{}]\n",
        "print(all(not x for x in input1))\n",
        "print(all(not x for x in input2))"
      ],
      "execution_count": 16,
      "outputs": [
        {
          "output_type": "stream",
          "text": [
            "True\n",
            "False\n"
          ],
          "name": "stdout"
        }
      ]
    },
    {
      "cell_type": "markdown",
      "metadata": {
        "id": "Obt_weTlCscz",
        "colab_type": "text"
      },
      "source": [
        "\n",
        "Python Data Types: Dictionary\n",
        "1. Write a Python script to generate and print a dictionary that contains a number (between 1 and n) in the form (x, x*x)\n",
        "\n",
        "    Sample Dictionary ( n = 5) :\n",
        "    Expected Output : {1: 1, 2: 4, 3: 9, 4: 16, 5: 25}\n",
        "\n"
      ]
    },
    {
      "cell_type": "code",
      "metadata": {
        "id": "4M1YcjBqCwt_",
        "colab_type": "code",
        "colab": {
          "base_uri": "https://localhost:8080/",
          "height": 52
        },
        "outputId": "5b5c1b9b-c4c2-4dcd-9412-e251423bbba0"
      },
      "source": [
        "n=int(input(\"Input a number \"))\n",
        "output = dict()\n",
        "\n",
        "for x in range(1,n+1):\n",
        "    output[x]=x*x\n",
        "\n",
        "print(output) "
      ],
      "execution_count": 20,
      "outputs": [
        {
          "output_type": "stream",
          "text": [
            "Input a number 5\n",
            "{1: 1, 2: 4, 3: 9, 4: 16, 5: 25}\n"
          ],
          "name": "stdout"
        }
      ]
    },
    {
      "cell_type": "markdown",
      "metadata": {
        "id": "Dmzh2uDnDSlo",
        "colab_type": "text"
      },
      "source": [
        "\n",
        "2. Write a Python program to combine two dictionary adding values for common keys\n",
        "\n",
        "    d1 = {'a': 100, 'b': 200, 'c':300}\n",
        "    d2 = {'a': 300, 'b': 200, 'd':400}\n",
        "    Sample output: Counter({'a': 400, 'b': 400, 'd': 400, 'c': 300})\n",
        "\n"
      ]
    },
    {
      "cell_type": "code",
      "metadata": {
        "id": "KYyQ3vOVDZl4",
        "colab_type": "code",
        "colab": {
          "base_uri": "https://localhost:8080/",
          "height": 34
        },
        "outputId": "714b3447-0dbb-43d1-fbd1-edd583d1c445"
      },
      "source": [
        "from collections import Counter\n",
        "d1 = {'a': 100, 'b': 200, 'c':300}\n",
        "d2 = {'a': 300, 'b': 200, 'd':400}\n",
        "output = Counter(d1) + Counter(d2)\n",
        "print(output)\n"
      ],
      "execution_count": 21,
      "outputs": [
        {
          "output_type": "stream",
          "text": [
            "Counter({'a': 400, 'b': 400, 'd': 400, 'c': 300})\n"
          ],
          "name": "stdout"
        }
      ]
    },
    {
      "cell_type": "markdown",
      "metadata": {
        "id": "lOG6Pzk5Dexy",
        "colab_type": "text"
      },
      "source": [
        "\n",
        "3. Write a Python program to print all unique values in a dictionary\n",
        "\n",
        "    Sample Data : [{\"V\":\"S001\"}, {\"V\": \"S002\"}, {\"VI\": \"S001\"}, {\"VI\": \"S005\"}, {\"VII\":\"S005\"}, {\"V\":\"S009\"},{\"VIII\":\"S007\"}]\n",
        "    Expected Output : Unique Values: {'S005', 'S002', 'S007', 'S001', 'S009'}\n",
        "\n"
      ]
    },
    {
      "cell_type": "code",
      "metadata": {
        "id": "erDUum5bDiLX",
        "colab_type": "code",
        "colab": {
          "base_uri": "https://localhost:8080/",
          "height": 52
        },
        "outputId": "d37c5bec-bd22-4fa9-f006-6f8fa5c73ee5"
      },
      "source": [
        "input_list= [{\"V\":\"S001\"}, {\"V\": \"S002\"}, {\"VI\": \"S001\"}, {\"VI\": \"S005\"}, {\"VII\":\"S005\"}, {\"V\":\"S009\"},{\"VIII\":\"S007\"}]\n",
        "print(\"Original List: \",input_list)\n",
        "unique_value = set( val for dic in input_list for val in dic.values())\n",
        "print(\"Unique Values: \",unique_value)"
      ],
      "execution_count": 22,
      "outputs": [
        {
          "output_type": "stream",
          "text": [
            "Original List:  [{'V': 'S001'}, {'V': 'S002'}, {'VI': 'S001'}, {'VI': 'S005'}, {'VII': 'S005'}, {'V': 'S009'}, {'VIII': 'S007'}]\n",
            "Unique Values:  {'S005', 'S002', 'S009', 'S007', 'S001'}\n"
          ],
          "name": "stdout"
        }
      ]
    },
    {
      "cell_type": "markdown",
      "metadata": {
        "id": "3kmomIpdDnPw",
        "colab_type": "text"
      },
      "source": [
        "\n",
        "4. Write a Python program to create and display all combinations of letters, selecting each letter from a different key in a dictionary.\n",
        "\n",
        "    Sample data : {'1':['a','b'], '2':['c','d']} ###### Expected Output: ac ad bc bd\n",
        "\n"
      ]
    },
    {
      "cell_type": "code",
      "metadata": {
        "id": "IEeVpKFmDsOR",
        "colab_type": "code",
        "colab": {
          "base_uri": "https://localhost:8080/",
          "height": 34
        },
        "outputId": "bdf9aacd-a7c4-4dcb-fc48-1c6aeefe359b"
      },
      "source": [
        "import itertools      \n",
        "input_dic ={'1':['a','b'], '2':['c','d']}\n",
        "for combo in itertools.product(*[input_dic[k] for k in sorted(input_dic.keys())]):\n",
        "    print(''.join(combo),end=\" \")"
      ],
      "execution_count": 23,
      "outputs": [
        {
          "output_type": "stream",
          "text": [
            "ac ad bc bd "
          ],
          "name": "stdout"
        }
      ]
    },
    {
      "cell_type": "markdown",
      "metadata": {
        "id": "tGKKkhi6DxJN",
        "colab_type": "text"
      },
      "source": [
        "\n",
        "5. Write a Python program to create a dictionary from a string.\n",
        "\n",
        "    Note: Track the count of the letters from the string.\n",
        "    Sample string : 'w3resource'\n",
        "    Expected output: {'3': 1, 's': 1, 'r': 2, 'u': 1, 'w': 1, 'c': 1, 'e': 2, 'o': 1}\n",
        "\n"
      ]
    },
    {
      "cell_type": "code",
      "metadata": {
        "id": "DdQLWyJ5D1W6",
        "colab_type": "code",
        "colab": {
          "base_uri": "https://localhost:8080/",
          "height": 34
        },
        "outputId": "2e0b4864-f4ca-4547-a5f7-3722f077eb70"
      },
      "source": [
        "from collections import defaultdict, Counter\n",
        "input_str = 'w3resource' \n",
        "output = {}\n",
        "for letter in input_str:\n",
        "    output[letter] = output.get(letter, 0) + 1\n",
        "print(output)"
      ],
      "execution_count": 24,
      "outputs": [
        {
          "output_type": "stream",
          "text": [
            "{'w': 1, '3': 1, 'r': 2, 'e': 2, 's': 1, 'o': 1, 'u': 1, 'c': 1}\n"
          ],
          "name": "stdout"
        }
      ]
    },
    {
      "cell_type": "markdown",
      "metadata": {
        "id": "0LPZiOh3D5zX",
        "colab_type": "text"
      },
      "source": [
        "\n",
        "6. Write a Python program to count the values associated with key in a dictionary.\n",
        "\n",
        "    Sample data: = [{'id': 1, 'success': True, 'name': 'Lary'}, {'id': 2, 'success': False, 'name': 'Rabi'}, {'id': 3, 'success': True, 'name': 'Alex'}]\n",
        "    Expected result: Count of how many dictionaries have success as True\n",
        "\n"
      ]
    },
    {
      "cell_type": "code",
      "metadata": {
        "id": "03WOG8fCD9Yz",
        "colab_type": "code",
        "colab": {
          "base_uri": "https://localhost:8080/",
          "height": 34
        },
        "outputId": "c998ffdb-f5ed-4361-da0d-4949ebca9035"
      },
      "source": [
        "student = [{'id': 1, 'success': True, 'name': 'Lary'},\n",
        " {'id': 2, 'success': False, 'name': 'Rabi'},\n",
        " {'id': 3, 'success': True, 'name': 'Alex'}]\n",
        "print(sum(x['success'] for x in student))"
      ],
      "execution_count": 25,
      "outputs": [
        {
          "output_type": "stream",
          "text": [
            "2\n"
          ],
          "name": "stdout"
        }
      ]
    },
    {
      "cell_type": "markdown",
      "metadata": {
        "id": "7ZmJCISbEHTe",
        "colab_type": "text"
      },
      "source": [
        "7. Write a Python program to convert a list into a nested dictionary of keys."
      ]
    },
    {
      "cell_type": "code",
      "metadata": {
        "id": "w-YZeoRNELkv",
        "colab_type": "code",
        "colab": {
          "base_uri": "https://localhost:8080/",
          "height": 34
        },
        "outputId": "2ec80fd4-0c87-40b1-93e5-a6470d04e3d6"
      },
      "source": [
        "input_list = [7,14,21]\n",
        "output = current = {}\n",
        "for name in input_list:\n",
        "    current[name] = {}\n",
        "    current = current[name]\n",
        "print(output)"
      ],
      "execution_count": 26,
      "outputs": [
        {
          "output_type": "stream",
          "text": [
            "{7: {14: {21: {}}}}\n"
          ],
          "name": "stdout"
        }
      ]
    },
    {
      "cell_type": "markdown",
      "metadata": {
        "id": "j_1E0g2WERL3",
        "colab_type": "text"
      },
      "source": [
        "8. Write a Python program to sort a list alphabetically in a dictionary."
      ]
    },
    {
      "cell_type": "code",
      "metadata": {
        "id": "PI-5N_MQEVSZ",
        "colab_type": "code",
        "colab": {
          "base_uri": "https://localhost:8080/",
          "height": 34
        },
        "outputId": "f3910577-a1cd-4ea0-94dc-800bf38a219e"
      },
      "source": [
        "input = {'n1': [5,8,7], 'n2': [10,90,80], 'n3': [44,75,66]}\n",
        "sorted_output = {x: sorted(y) for x, y in input.items()}\n",
        "print(sorted_output)"
      ],
      "execution_count": 27,
      "outputs": [
        {
          "output_type": "stream",
          "text": [
            "{'n1': [5, 7, 8], 'n2': [10, 80, 90], 'n3': [44, 66, 75]}\n"
          ],
          "name": "stdout"
        }
      ]
    },
    {
      "cell_type": "markdown",
      "metadata": {
        "id": "zSgsrCbOEblm",
        "colab_type": "text"
      },
      "source": [
        "\n",
        "9. Write a Python program to sort Counter by value.\n",
        "\n",
        "    Sample data : {'Math':81, 'Physics':83, 'Chemistry':87}\n",
        "    Expected data: [('Chemistry', 87), ('Physics', 83), ('Math', 81)]\n",
        "\n"
      ]
    },
    {
      "cell_type": "code",
      "metadata": {
        "id": "UzC7gVYHEes2",
        "colab_type": "code",
        "colab": {
          "base_uri": "https://localhost:8080/",
          "height": 34
        },
        "outputId": "bf137a09-9d09-45cb-f0d5-bf13e7236154"
      },
      "source": [
        "from collections import Counter\n",
        "input1 = Counter({'Math':81, 'Physics':83, 'Chemistry':87})\n",
        "print(input1.most_common())"
      ],
      "execution_count": 28,
      "outputs": [
        {
          "output_type": "stream",
          "text": [
            "[('Chemistry', 87), ('Physics', 83), ('Math', 81)]\n"
          ],
          "name": "stdout"
        }
      ]
    },
    {
      "cell_type": "markdown",
      "metadata": {
        "id": "UJFR6tNdEjpn",
        "colab_type": "text"
      },
      "source": [
        "\n",
        "10. Write a Python program to match key values in two dictionaries. Go to the editor\n",
        "\n",
        "    Sample dictionary: {'key1': 1, 'key2': 3, 'key3': 2}, {'key1': 1, 'key2': 2}\n",
        "    Expected output: key1: 1 is present in both x and y\n",
        "\n"
      ]
    },
    {
      "cell_type": "code",
      "metadata": {
        "id": "F5rsvtzZEnkg",
        "colab_type": "code",
        "colab": {
          "base_uri": "https://localhost:8080/",
          "height": 34
        },
        "outputId": "4ea7d0f9-90e2-4ed9-b7f9-0398ebaa77e4"
      },
      "source": [
        "input1 = {'key1': 1, 'key2': 3, 'key3': 2}\n",
        "input2 = {'key1': 1, 'key2': 2}\n",
        "for (key, value) in set(input1.items()) & set(input2.items()):\n",
        "    print('%s: %s is present in both input1 and input2' % (key, value))\n",
        "        "
      ],
      "execution_count": 29,
      "outputs": [
        {
          "output_type": "stream",
          "text": [
            "key1: 1 is present in both input1 and input2\n"
          ],
          "name": "stdout"
        }
      ]
    },
    {
      "cell_type": "markdown",
      "metadata": {
        "id": "OQsliA7kEtVs",
        "colab_type": "text"
      },
      "source": [
        "Python Data Types: Tuple - Exercises"
      ]
    },
    {
      "cell_type": "markdown",
      "metadata": {
        "id": "Tnbzvt0aEzWm",
        "colab_type": "text"
      },
      "source": [
        "1. Write a Python program to create a tuple with different data types."
      ]
    },
    {
      "cell_type": "code",
      "metadata": {
        "id": "VRWK3cQcE2X8",
        "colab_type": "code",
        "colab": {
          "base_uri": "https://localhost:8080/",
          "height": 34
        },
        "outputId": "029662d4-bb60-425f-84c9-20aa4c812e6b"
      },
      "source": [
        "input1 = (\"hello\", False, 6.7, 10)\n",
        "print(input1)"
      ],
      "execution_count": 30,
      "outputs": [
        {
          "output_type": "stream",
          "text": [
            "('hello', False, 6.7, 10)\n"
          ],
          "name": "stdout"
        }
      ]
    },
    {
      "cell_type": "markdown",
      "metadata": {
        "id": "IrAxrE9xE7Jj",
        "colab_type": "text"
      },
      "source": [
        "2. Write a Python program to add an item in a tuple"
      ]
    },
    {
      "cell_type": "code",
      "metadata": {
        "id": "dNftDFCFE-bc",
        "colab_type": "code",
        "colab": {
          "base_uri": "https://localhost:8080/",
          "height": 34
        },
        "outputId": "9a8f9901-136b-433f-eb82-58657a0d1fe2"
      },
      "source": [
        "input1 = (20,40,6,7,8) \n",
        "input1 = input1 + (10,)\n",
        "print(input1)"
      ],
      "execution_count": 31,
      "outputs": [
        {
          "output_type": "stream",
          "text": [
            "(20, 40, 6, 7, 8, 10)\n"
          ],
          "name": "stdout"
        }
      ]
    },
    {
      "cell_type": "markdown",
      "metadata": {
        "id": "iWOK5o9dFDAe",
        "colab_type": "text"
      },
      "source": [
        "3. Write a Python program to convert a tuple to a string."
      ]
    },
    {
      "cell_type": "code",
      "metadata": {
        "id": "iVKSJU1CFHxi",
        "colab_type": "code",
        "colab": {
          "base_uri": "https://localhost:8080/",
          "height": 34
        },
        "outputId": "1a590ba9-4584-4b8b-88b2-23439947e236"
      },
      "source": [
        "input1 = ('h', 'e', 'l', 'l', 'o')\n",
        "output =  ''.join(input1)\n",
        "print(output)"
      ],
      "execution_count": 32,
      "outputs": [
        {
          "output_type": "stream",
          "text": [
            "hello\n"
          ],
          "name": "stdout"
        }
      ]
    },
    {
      "cell_type": "markdown",
      "metadata": {
        "id": "LPZ1173pFMG9",
        "colab_type": "text"
      },
      "source": [
        "4. Write a Python program to find the repeated items of a tuple"
      ]
    },
    {
      "cell_type": "code",
      "metadata": {
        "id": "g1bT2BxTFQU_",
        "colab_type": "code",
        "colab": {
          "base_uri": "https://localhost:8080/",
          "height": 34
        },
        "outputId": "85dfa699-05ea-4a17-e008-ab323bf91910"
      },
      "source": [
        "input1 = (10,20,40,30,8,8,7,6)\n",
        "\n",
        "output = input1.count(8)\n",
        "print(output)"
      ],
      "execution_count": 33,
      "outputs": [
        {
          "output_type": "stream",
          "text": [
            "2\n"
          ],
          "name": "stdout"
        }
      ]
    },
    {
      "cell_type": "markdown",
      "metadata": {
        "id": "TZGAUTvEFVPb",
        "colab_type": "text"
      },
      "source": [
        "5. Write a Python program to find the length of a tuple."
      ]
    },
    {
      "cell_type": "code",
      "metadata": {
        "id": "Ypp0WiaIFYX7",
        "colab_type": "code",
        "colab": {
          "base_uri": "https://localhost:8080/",
          "height": 34
        },
        "outputId": "6af3de0e-57d0-4a33-83a1-83924d861e97"
      },
      "source": [
        "input1 = tuple(\"hello\")\n",
        "print(len(input1))"
      ],
      "execution_count": 34,
      "outputs": [
        {
          "output_type": "stream",
          "text": [
            "5\n"
          ],
          "name": "stdout"
        }
      ]
    },
    {
      "cell_type": "markdown",
      "metadata": {
        "id": "OEV2LGMWFcm9",
        "colab_type": "text"
      },
      "source": [
        "6. Write a Python program to convert a tuple to a dictionary."
      ]
    },
    {
      "cell_type": "code",
      "metadata": {
        "id": "Ro5-Llm1FgNq",
        "colab_type": "code",
        "colab": {
          "base_uri": "https://localhost:8080/",
          "height": 34
        },
        "outputId": "8ed24350-9d53-43db-a575-6bde9bf56596"
      },
      "source": [
        "input1 = ((1, \"Rahul\"),(2, \"Anjali\"))\n",
        "print(dict((y, x) for x, y in input1))"
      ],
      "execution_count": 35,
      "outputs": [
        {
          "output_type": "stream",
          "text": [
            "{'Rahul': 1, 'Anjali': 2}\n"
          ],
          "name": "stdout"
        }
      ]
    },
    {
      "cell_type": "markdown",
      "metadata": {
        "id": "HgCzVSdPFk2q",
        "colab_type": "text"
      },
      "source": [
        "\n",
        "7. Write a Python program to replace last value of tuples in a list.\n",
        "\n",
        "    Sample list: [(10, 20, 40), (40, 50, 60), (70, 80, 90)]\n",
        "    Expected Output: [(10, 20, 100), (40, 50, 100), (70, 80, 100)]\n",
        "\n"
      ]
    },
    {
      "cell_type": "code",
      "metadata": {
        "id": "aPi2WNOXFpPS",
        "colab_type": "code",
        "colab": {
          "base_uri": "https://localhost:8080/",
          "height": 34
        },
        "outputId": "b6da9bdc-3ba3-4a81-9fb0-aad46bfd3cc3"
      },
      "source": [
        "input1 = [(10, 20, 40), (40, 50, 60), (70, 80, 90)]\n",
        "print([x[:-1] + (100,) for x in input1])"
      ],
      "execution_count": 36,
      "outputs": [
        {
          "output_type": "stream",
          "text": [
            "[(10, 20, 100), (40, 50, 100), (70, 80, 100)]\n"
          ],
          "name": "stdout"
        }
      ]
    },
    {
      "cell_type": "markdown",
      "metadata": {
        "id": "UqzmxjnRFvKQ",
        "colab_type": "text"
      },
      "source": [
        "\n",
        "8. Write a Python program to replace last value of tuples in a list.\n",
        "\n",
        "    Sample data: [(), (), ('',), ('a', 'b'), ('a', 'b', 'c'), ('d')]\n",
        "    Expected output: [('',), ('a', 'b'), ('a', 'b', 'c'), 'd']\n",
        "\n"
      ]
    },
    {
      "cell_type": "code",
      "metadata": {
        "id": "nfeNTe9sFzA3",
        "colab_type": "code",
        "colab": {
          "base_uri": "https://localhost:8080/",
          "height": 34
        },
        "outputId": "b41b60e7-da31-426a-db62-5773b7608ce7"
      },
      "source": [
        "input1= [(), (), ('',), ('a', 'b'), ('a', 'b', 'c'), ('d')]\n",
        "output = [x for x in input1 if x]\n",
        "print(output)"
      ],
      "execution_count": 37,
      "outputs": [
        {
          "output_type": "stream",
          "text": [
            "[('',), ('a', 'b'), ('a', 'b', 'c'), 'd']\n"
          ],
          "name": "stdout"
        }
      ]
    },
    {
      "cell_type": "markdown",
      "metadata": {
        "id": "239TFneuF7V-",
        "colab_type": "text"
      },
      "source": [
        "\n",
        "9. Write a Python program to sort a tuple by its float element.\n",
        "\n",
        "    Sample data: [('item1', '12.20'), ('item2', '15.10'), ('item3', '24.5')]\n",
        "    Expected Output: [('item3', '24.5'), ('item2', '15.10'), ('item1', '12.20')]\n",
        "\n"
      ]
    },
    {
      "cell_type": "code",
      "metadata": {
        "id": "67bYrbvLF_Op",
        "colab_type": "code",
        "colab": {
          "base_uri": "https://localhost:8080/",
          "height": 34
        },
        "outputId": "340e7e03-9116-4a13-8761-16de6d91e1e1"
      },
      "source": [
        "price = [('item1', '12.20'), ('item2', '15.10'), ('item3', '24.5')]\n",
        "print( sorted(price, key=lambda x: float(x[1]), reverse=True))"
      ],
      "execution_count": 38,
      "outputs": [
        {
          "output_type": "stream",
          "text": [
            "[('item3', '24.5'), ('item2', '15.10'), ('item1', '12.20')]\n"
          ],
          "name": "stdout"
        }
      ]
    },
    {
      "cell_type": "markdown",
      "metadata": {
        "id": "ejWfEgDuGES3",
        "colab_type": "text"
      },
      "source": [
        "10. Write a Python program to count the elements in a list until an element is a tuple"
      ]
    },
    {
      "cell_type": "code",
      "metadata": {
        "id": "zpjKXa7dGIUh",
        "colab_type": "code",
        "colab": {
          "base_uri": "https://localhost:8080/",
          "height": 34
        },
        "outputId": "9e229070-2630-49c4-853b-2b8445b34a72"
      },
      "source": [
        "input1 = [70,3,5,6,(3,6,7),8,20]\n",
        "count = 0\n",
        "for x in input1:\n",
        "    if isinstance(x, tuple):\n",
        "        break\n",
        "    count += 1\n",
        "print(count)"
      ],
      "execution_count": 39,
      "outputs": [
        {
          "output_type": "stream",
          "text": [
            "4\n"
          ],
          "name": "stdout"
        }
      ]
    },
    {
      "cell_type": "markdown",
      "metadata": {
        "id": "LnX-zzgsGRg4",
        "colab_type": "text"
      },
      "source": [
        "Python Conditional Statements and loops"
      ]
    },
    {
      "cell_type": "markdown",
      "metadata": {
        "id": "ztv3nRYWGU6z",
        "colab_type": "text"
      },
      "source": [
        "\n",
        "1. Write a Python program to count the number of even and odd numbers from a series of numbers.\n",
        "\n",
        "    Sample numbers : numbers = (1, 2, 3, 4, 5, 6, 7, 8, 9) ##### Expected Output :\n",
        "    Number of even numbers : 5\n",
        "    Number of odd numbers : 4\n",
        "\n"
      ]
    },
    {
      "cell_type": "code",
      "metadata": {
        "id": "w-v1TxbgGYXO",
        "colab_type": "code",
        "colab": {
          "base_uri": "https://localhost:8080/",
          "height": 52
        },
        "outputId": "98205cdb-2ce1-486e-d76e-b142fa53902c"
      },
      "source": [
        "input1 = (1, 2, 3, 4, 5, 6, 7, 8, 9) \n",
        "count_odd = 0\n",
        "count_even = 0\n",
        "for x in input1:\n",
        "        if not x % 2:\n",
        "    \t     count_even+=1\n",
        "        else:\n",
        "    \t     count_odd+=1\n",
        "print(\"Number of even numbers :\",count_even)\n",
        "print(\"Number of odd numbers :\",count_odd)"
      ],
      "execution_count": 40,
      "outputs": [
        {
          "output_type": "stream",
          "text": [
            "Number of even numbers : 4\n",
            "Number of odd numbers : 5\n"
          ],
          "name": "stdout"
        }
      ]
    },
    {
      "cell_type": "markdown",
      "metadata": {
        "id": "cK9XUFdyGeo1",
        "colab_type": "text"
      },
      "source": [
        "\n",
        "2. Write a Python program that prints all the numbers from 0 to 6 except 3 and 6.\n",
        "\n",
        "    Note : Use 'continue' statement.\n",
        "    Expected Output : 0 1 2 4 5\n",
        "\n"
      ]
    },
    {
      "cell_type": "code",
      "metadata": {
        "id": "nbKNbmvyGjv8",
        "colab_type": "code",
        "colab": {
          "base_uri": "https://localhost:8080/",
          "height": 52
        },
        "outputId": "c12ec43c-fe42-4af2-fc63-b3743db1f53b"
      },
      "source": [
        "for x in range(6):\n",
        "    if (x == 3 or x==6):\n",
        "        continue\n",
        "    print(x,end=' ')\n",
        "print(\"\\n\")"
      ],
      "execution_count": 41,
      "outputs": [
        {
          "output_type": "stream",
          "text": [
            "0 1 2 4 5 \n",
            "\n"
          ],
          "name": "stdout"
        }
      ]
    },
    {
      "cell_type": "markdown",
      "metadata": {
        "id": "M2ce7W_DGp4g",
        "colab_type": "text"
      },
      "source": [
        "\n",
        "3. Write a Python program to get the Fibonacci series between 0 to 50.\n",
        "Note : The Fibonacci Sequence is the series of numbers :\n",
        "\n",
        "    0, 1, 1, 2, 3, 5, 8, 13, 21, ....\n",
        "    Every next number is found by adding up the two numbers before it.\n",
        "    Expected Output : 1 1 2 3 5 8 13 21 34\n",
        "\n"
      ]
    },
    {
      "cell_type": "code",
      "metadata": {
        "id": "GDgZw2_QGtU6",
        "colab_type": "code",
        "colab": {
          "base_uri": "https://localhost:8080/",
          "height": 173
        },
        "outputId": "f215d5d4-38a9-424c-c783-97c20dbce919"
      },
      "source": [
        "x,y=0,1\n",
        "\n",
        "while y<50:\n",
        "    print(y)\n",
        "    x,y = y,x+y"
      ],
      "execution_count": 42,
      "outputs": [
        {
          "output_type": "stream",
          "text": [
            "1\n",
            "1\n",
            "2\n",
            "3\n",
            "5\n",
            "8\n",
            "13\n",
            "21\n",
            "34\n"
          ],
          "name": "stdout"
        }
      ]
    },
    {
      "cell_type": "markdown",
      "metadata": {
        "id": "MPBVASmfGy67",
        "colab_type": "text"
      },
      "source": [
        "4. Write a Python program to find numbers between 100 and 400 (both included) where each digit of a number is an even number. The numbers obtained should be printed in a comma-separated sequence"
      ]
    },
    {
      "cell_type": "code",
      "metadata": {
        "id": "DDjYOEBqG2aU",
        "colab_type": "code",
        "colab": {
          "base_uri": "https://localhost:8080/",
          "height": 34
        },
        "outputId": "459ba197-1134-4e30-f7b7-d54e09d2ec6f"
      },
      "source": [
        "output = []\n",
        "for i in range(100, 401):\n",
        "    s = str(i)\n",
        "    if (int(s[0])%2==0) and (int(s[1])%2==0) and (int(s[2])%2==0):\n",
        "        output.append(s)\n",
        "print( \",\".join(output))"
      ],
      "execution_count": 44,
      "outputs": [
        {
          "output_type": "stream",
          "text": [
            "200,202,204,206,208,220,222,224,226,228,240,242,244,246,248,260,262,264,266,268,280,282,284,286,288,400\n"
          ],
          "name": "stdout"
        }
      ]
    },
    {
      "cell_type": "markdown",
      "metadata": {
        "id": "JVOXw0trJKVz",
        "colab_type": "text"
      },
      "source": [
        "\n",
        "5. Write a Python program to create the multiplication table (from 1 to 10) of a number.\n",
        "\n"
      ]
    },
    {
      "cell_type": "code",
      "metadata": {
        "id": "3lOO0RtMJLMi",
        "colab_type": "code",
        "colab": {
          "base_uri": "https://localhost:8080/",
          "height": 191
        },
        "outputId": "553ceeb8-fee3-4183-e477-cd25c248db29"
      },
      "source": [
        "n = 5\n",
        "for i in range(1,11):\n",
        "   print(n,'x',i,'=',n*i)"
      ],
      "execution_count": 56,
      "outputs": [
        {
          "output_type": "stream",
          "text": [
            "5 x 1 = 5\n",
            "5 x 2 = 10\n",
            "5 x 3 = 15\n",
            "5 x 4 = 20\n",
            "5 x 5 = 25\n",
            "5 x 6 = 30\n",
            "5 x 7 = 35\n",
            "5 x 8 = 40\n",
            "5 x 9 = 45\n",
            "5 x 10 = 50\n"
          ],
          "name": "stdout"
        }
      ]
    },
    {
      "cell_type": "markdown",
      "metadata": {
        "id": "vfyNT6cBJc6N",
        "colab_type": "text"
      },
      "source": [
        "Python functions - Exercises"
      ]
    },
    {
      "cell_type": "markdown",
      "metadata": {
        "id": "zXLlHcZFJf3t",
        "colab_type": "text"
      },
      "source": [
        "1. Write a Python function to find the Max of three numbers."
      ]
    },
    {
      "cell_type": "code",
      "metadata": {
        "id": "hO0ijsXdJu6O",
        "colab_type": "code",
        "colab": {
          "base_uri": "https://localhost:8080/",
          "height": 34
        },
        "outputId": "68afe519-67a2-458b-835f-911bd5e52bc0"
      },
      "source": [
        "def max_of_two( x, y ):\n",
        "    if x > y:\n",
        "        return x\n",
        "    return y\n",
        "def max_of_three( x, y, z ):\n",
        "    return max_of_two( x, max_of_two( y, z ) )\n",
        "print(max_of_three(5, 50, 12))"
      ],
      "execution_count": 57,
      "outputs": [
        {
          "output_type": "stream",
          "text": [
            "50\n"
          ],
          "name": "stdout"
        }
      ]
    },
    {
      "cell_type": "markdown",
      "metadata": {
        "id": "98r-0KW7JzZF",
        "colab_type": "text"
      },
      "source": [
        "2. Write a Python function to sum all the numbers in a list"
      ]
    },
    {
      "cell_type": "code",
      "metadata": {
        "id": "fcIzt6VwJ2eH",
        "colab_type": "code",
        "colab": {
          "base_uri": "https://localhost:8080/",
          "height": 34
        },
        "outputId": "23bf8ef8-cdc8-4842-b8b1-3af01c7ce526"
      },
      "source": [
        "def sum(numbers):\n",
        "    total = 0\n",
        "    for x in numbers:\n",
        "        total += x\n",
        "    return total\n",
        "print(sum((8,7,20,50,40)))"
      ],
      "execution_count": 58,
      "outputs": [
        {
          "output_type": "stream",
          "text": [
            "125\n"
          ],
          "name": "stdout"
        }
      ]
    },
    {
      "cell_type": "markdown",
      "metadata": {
        "id": "mIfpv4l9J7xD",
        "colab_type": "text"
      },
      "source": [
        "3. Write a Python function to multiply all the numbers in a list"
      ]
    },
    {
      "cell_type": "code",
      "metadata": {
        "id": "HD5qWOP9J-m2",
        "colab_type": "code",
        "colab": {
          "base_uri": "https://localhost:8080/",
          "height": 34
        },
        "outputId": "43b2558d-1474-4cc8-c5ce-fc60984c5c95"
      },
      "source": [
        "def multiply(numbers):  \n",
        "    ans = 1\n",
        "    for i in numbers:\n",
        "        ans *= i  \n",
        "    return ans  \n",
        "print(multiply((5,7,10,34)))\n"
      ],
      "execution_count": 59,
      "outputs": [
        {
          "output_type": "stream",
          "text": [
            "11900\n"
          ],
          "name": "stdout"
        }
      ]
    },
    {
      "cell_type": "markdown",
      "metadata": {
        "id": "MsWNtD1NKFFa",
        "colab_type": "text"
      },
      "source": [
        "\n",
        "4. Write a Python function that accepts a string and calculate the number of upper case letters and lower case letters"
      ]
    },
    {
      "cell_type": "code",
      "metadata": {
        "id": "WNDibUShKGQ2",
        "colab_type": "code",
        "colab": {
          "base_uri": "https://localhost:8080/",
          "height": 69
        },
        "outputId": "b6f90476-4fad-463c-d757-b8dc524e78f5"
      },
      "source": [
        "def string_test(s):\n",
        "    d={\"UPPER_CASE\":0, \"LOWER_CASE\":0}\n",
        "    for c in s:\n",
        "        if c.isupper():\n",
        "           d[\"UPPER_CASE\"]+=1\n",
        "        elif c.islower():\n",
        "           d[\"LOWER_CASE\"]+=1\n",
        "        else:\n",
        "           pass\n",
        "    print (\"Original String : \", s)\n",
        "    print (\"No. of Upper case characters : \", d[\"UPPER_CASE\"])\n",
        "    print (\"No. of Lower case Characters : \", d[\"LOWER_CASE\"])\n",
        "\n",
        "string_test('Welcome to programming')\n"
      ],
      "execution_count": 60,
      "outputs": [
        {
          "output_type": "stream",
          "text": [
            "Original String :  Welcome to programming\n",
            "No. of Upper case characters :  1\n",
            "No. of Lower case Characters :  19\n"
          ],
          "name": "stdout"
        }
      ]
    },
    {
      "cell_type": "markdown",
      "metadata": {
        "id": "cGP5X_xtKNSD",
        "colab_type": "text"
      },
      "source": [
        "5. Write a Python program to print the even numbers from a given list"
      ]
    },
    {
      "cell_type": "code",
      "metadata": {
        "id": "_1SuFAtBKP-w",
        "colab_type": "code",
        "colab": {
          "base_uri": "https://localhost:8080/",
          "height": 34
        },
        "outputId": "01d99ec6-8974-4e41-e115-ade7f14e7665"
      },
      "source": [
        "def is_even_num(list1):\n",
        "    enum = []\n",
        "    for n in list1:\n",
        "        if n % 2 == 0:\n",
        "            enum.append(n)\n",
        "    return enum\n",
        "print(is_even_num([20,10,33,40,56,80,9]))\n"
      ],
      "execution_count": 61,
      "outputs": [
        {
          "output_type": "stream",
          "text": [
            "[20, 10, 40, 56, 80]\n"
          ],
          "name": "stdout"
        }
      ]
    }
  ]
}